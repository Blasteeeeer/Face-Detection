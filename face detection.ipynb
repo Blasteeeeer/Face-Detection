{
 "cells": [
  {
   "cell_type": "code",
   "execution_count": 1,
   "id": "882d7678",
   "metadata": {},
   "outputs": [],
   "source": [
    "import cv2 as cv"
   ]
  },
  {
   "cell_type": "code",
   "execution_count": 2,
   "id": "0d1d8525",
   "metadata": {},
   "outputs": [],
   "source": [
    "face = cv.CascadeClassifier(\"haarcascade_frontalface_default.xml\")\n",
    "cam = cv.VideoCapture(0)\n",
    "\n",
    "while True:\n",
    "    _,img = cam.read()\n",
    "    img = cv.flip(img,1)\n",
    "    gray =cv.cvtColor(img, cv.COLOR_BGR2GRAY)\n",
    "    faces = face.detectMultiScale(gray, 1.3 , 4)\n",
    "\n",
    "    for (x,y,w,h) in faces:\n",
    "        cv.rectangle(img , (x,y),(x+w,y+h),(0,0,255),5)\n",
    "        cv.putText(img,\"face\",(x,y-10),cv.FONT_HERSHEY_SIMPLEX,1,(255,0,0),2)\n",
    "        \n",
    "    cv.imshow(\"Webcam\",img)\n",
    "    \n",
    "    key = cv.waitKey(30)\n",
    "    \n",
    "    if key == 27:\n",
    "        break\n",
    "\n",
    "cam.release()\n",
    "cv.destroyAllWindows()"
   ]
  }
 ],
 "metadata": {
  "kernelspec": {
   "display_name": "Python 3",
   "language": "python",
   "name": "python3"
  },
  "language_info": {
   "codemirror_mode": {
    "name": "ipython",
    "version": 3
   },
   "file_extension": ".py",
   "mimetype": "text/x-python",
   "name": "python",
   "nbconvert_exporter": "python",
   "pygments_lexer": "ipython3",
   "version": "3.8.8"
  }
 },
 "nbformat": 4,
 "nbformat_minor": 5
}
